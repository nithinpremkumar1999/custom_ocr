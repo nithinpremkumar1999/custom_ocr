{
  "cells": [
    {
      "cell_type": "markdown",
      "metadata": {
        "id": "Awk18GLEQ7hY"
      },
      "source": [
        "# Import Libraries"
      ]
    },
    {
      "cell_type": "code",
      "source": [
        "import os"
      ],
      "metadata": {
        "id": "GvEDKhKQxHNC"
      },
      "execution_count": 19,
      "outputs": []
    },
    {
      "cell_type": "markdown",
      "metadata": {
        "id": "j6i6lIFfIqER"
      },
      "source": [
        "# Dataset"
      ]
    },
    {
      "cell_type": "code",
      "source": [
        "! touch dataset.zip\n",
        "! curl https://codait-cos-dax.s3.us.cloud-object-storage.appdomain.cloud/dax-doclaynet/1.0.0/DocLayNet_core.zip --output dataset.zip"
      ],
      "metadata": {
        "colab": {
          "base_uri": "https://localhost:8080/"
        },
        "id": "N6mvekG3fEO4",
        "outputId": "75ffccd3-584a-41b9-f786-6dbd4d22c240"
      },
      "execution_count": 1,
      "outputs": [
        {
          "output_type": "stream",
          "name": "stdout",
          "text": [
            "  % Total    % Received % Xferd  Average Speed   Time    Time     Time  Current\n",
            "                                 Dload  Upload   Total   Spent    Left  Speed\n",
            "100 27.9G  100 27.9G    0     0  42.8M      0  0:11:07  0:11:07 --:--:-- 48.2M\n"
          ]
        }
      ]
    },
    {
      "cell_type": "code",
      "source": [
        "! mkdir /content/dataset\n",
        "! unzip dataset.zip -d /content/dataset\n",
        "! rm -f dataset.zip"
      ],
      "metadata": {
        "id": "AOQB3QlffeTL"
      },
      "execution_count": null,
      "outputs": []
    },
    {
      "cell_type": "markdown",
      "source": [
        "## convert to yolo format"
      ],
      "metadata": {
        "id": "6Ai_Ye94u-1T"
      }
    },
    {
      "cell_type": "code",
      "source": [
        "! mkdir yolo_dataset\n",
        "! mkdir yolo_dataset/train\n",
        "! mkdir yolo_dataset/val\n",
        "! mkdir yolo_dataset/test\n",
        "\n",
        "! touch yolo_dataset/convert_to_yolo.py"
      ],
      "metadata": {
        "colab": {
          "base_uri": "https://localhost:8080/"
        },
        "id": "T8A0-NB7vG_P",
        "outputId": "8d499866-1212-4615-d6ac-296aa1706a31"
      },
      "execution_count": 21,
      "outputs": [
        {
          "output_type": "stream",
          "name": "stdout",
          "text": [
            "mkdir: cannot create directory ‘yolo_dataset’: File exists\n",
            "mkdir: cannot create directory ‘yolo_dataset/train’: File exists\n",
            "mkdir: cannot create directory ‘yolo_dataset/val’: File exists\n",
            "mkdir: cannot create directory ‘yolo_dataset/test’: File exists\n"
          ]
        }
      ]
    },
    {
      "cell_type": "code",
      "source": [
        "! python /content/yolo_dataset/convert_to_yolo.py \"/content/dataset/COCO/train.json\" \"/content/dataset/PNG\" \"/content/yolo_dataset/train\""
      ],
      "metadata": {
        "id": "Mt8orKnPCBuP"
      },
      "execution_count": null,
      "outputs": []
    },
    {
      "cell_type": "code",
      "source": [
        "! python /content/yolo_dataset/convert_to_yolo.py \"/content/dataset/COCO/val.json\" \"/content/dataset/PNG\" \"/content/yolo_dataset/val\""
      ],
      "metadata": {
        "id": "YYscyp95xeJ2"
      },
      "execution_count": 32,
      "outputs": []
    },
    {
      "cell_type": "code",
      "source": [
        "! python /content/yolo_dataset/convert_to_yolo.py \"/content/dataset/COCO/test.json\" \"/content/dataset/PNG\" \"/content/yolo_dataset/test\""
      ],
      "metadata": {
        "id": "FzDDujmDE6Ir"
      },
      "execution_count": null,
      "outputs": []
    }
  ],
  "metadata": {
    "colab": {
      "provenance": []
    },
    "kernelspec": {
      "display_name": "Python 3",
      "name": "python3"
    },
    "language_info": {
      "name": "python"
    }
  },
  "nbformat": 4,
  "nbformat_minor": 0
}